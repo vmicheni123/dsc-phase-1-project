{
  "cells": [
    {
      "cell_type": "markdown",
      "metadata": {
        "id": "view-in-github",
        "colab_type": "text"
      },
      "source": [
        "<a href=\"https://colab.research.google.com/github/vmicheni123/dsc-phase-1-project/blob/master/Valerian_Project.ipynb\" target=\"_parent\"><img src=\"https://colab.research.google.com/assets/colab-badge.svg\" alt=\"Open In Colab\"/></a>"
      ]
    },
    {
      "cell_type": "markdown",
      "metadata": {
        "id": "iC19XcHTPlA5"
      },
      "source": [
        "## Final Project Submission\n",
        "\n",
        "Please fill out:\n",
        "* Student name: Valerian Micheni\n",
        "* Student pace: part time\n",
        "* Scheduled project review date/time:\n",
        "* Instructor name: Veronica Isaho\n",
        "* Blog post URL:\n"
      ]
    },
    {
      "cell_type": "markdown",
      "source": [
        "This Project is to support Microsoft in venturing into video content creation. It will help in making decisions on creating a new movie studio. The Project explores different type of films doing best at the box office hence the details will help in the decision making process.\n",
        "\n",
        "\n"
      ],
      "metadata": {
        "id": "1uUTkp9kRCEX"
      }
    },
    {
      "cell_type": "code",
      "execution_count": 2,
      "metadata": {
        "id": "Ahajd2c0PlA6"
      },
      "outputs": [],
      "source": [
        "# Importing python libraries using the standard way to read data\n",
        "import pandas as pd\n",
        "import numpy as np\n",
        "import matplotlib.pyplot as plt"
      ]
    },
    {
      "cell_type": "code",
      "source": [
        "# Read the data\n"
      ],
      "metadata": {
        "id": "dXLIyRETS2zF"
      },
      "execution_count": null,
      "outputs": []
    }
  ],
  "metadata": {
    "kernelspec": {
      "display_name": "Python 3",
      "language": "python",
      "name": "python3"
    },
    "language_info": {
      "codemirror_mode": {
        "name": "ipython",
        "version": 3
      },
      "file_extension": ".py",
      "mimetype": "text/x-python",
      "name": "python",
      "nbconvert_exporter": "python",
      "pygments_lexer": "ipython3",
      "version": "3.6.4"
    },
    "colab": {
      "provenance": [],
      "include_colab_link": true
    }
  },
  "nbformat": 4,
  "nbformat_minor": 0
}